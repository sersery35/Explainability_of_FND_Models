{
 "cells": [
  {
   "cell_type": "code",
   "execution_count": 3,
   "outputs": [],
   "source": [
    "from FakeNewsChallenge.model.fnc_model import FNCModel\n",
    "from FakeNewsChallenge.utils.helpers import DatasetManager, HYPERPARAMETERS\n",
    "import tensorflow as tf"
   ],
   "metadata": {
    "collapsed": false,
    "pycharm": {
     "name": "#%%\n"
    }
   }
  },
  {
   "cell_type": "code",
   "execution_count": 4,
   "outputs": [
    {
     "name": "stdout",
     "output_type": "stream",
     "text": [
      "Device: /physical_device:CPU:0\n",
      "Could not set memory growth to true\n"
     ]
    }
   ],
   "source": [
    "physical_devices = tf.config.list_physical_devices('CPU')\n",
    "print(f\"Device: {physical_devices[0].name}\")\n",
    "try:\n",
    "    tf.config.experimental.set_memory_growth(physical_devices[0], True)\n",
    "except:\n",
    "    # Invalid device or cannot modify virtual devices once initialized.\n",
    "    print(\"Could not set memory growth to true\")\n",
    "    pass\n"
   ],
   "metadata": {
    "collapsed": false,
    "pycharm": {
     "name": "#%%\n"
    }
   }
  },
  {
   "cell_type": "code",
   "execution_count": null,
   "outputs": [
    {
     "name": "stdout",
     "output_type": "stream",
     "text": [
      "Processing data...\n",
      "Train set [<train_bodies.csv, train_stances.csv>] contains 49972 instances\n",
      "Submission test set [<test_bodies.csv, test_stances_unlabeled.csv>] contains 25413 instances\n",
      "Converting sets to tf.data.Dataset instances then shuffling then splitting the dataset\n"
     ]
    },
    {
     "name": "stderr",
     "output_type": "stream",
     "text": [
      "2022-05-24 01:14:29.210515: I tensorflow/core/platform/cpu_feature_guard.cc:193] This TensorFlow binary is optimized with oneAPI Deep Neural Network Library (oneDNN) to use the following CPU instructions in performance-critical operations:  AVX2 FMA\n",
      "To enable them in other operations, rebuild TensorFlow with the appropriate compiler flags.\n",
      "2022-05-24 01:14:29.215788: W tensorflow/core/framework/cpu_allocator_impl.cc:82] Allocation of 3998159776 exceeds 10% of free system memory.\n"
     ]
    },
    {
     "name": "stdout",
     "output_type": "stream",
     "text": [
      ":::After split::: \n",
      "Train set has 29983, validation set has 9994, and test set has 9995 instances\n"
     ]
    },
    {
     "name": "stderr",
     "output_type": "stream",
     "text": [
      "2022-05-24 01:14:52.821902: W tensorflow/core/framework/cpu_allocator_impl.cc:82] Allocation of 2033243304 exceeds 10% of free system memory.\n",
      "2022-05-24 01:15:05.133346: W tensorflow/core/framework/cpu_allocator_impl.cc:82] Allocation of 3998159776 exceeds 10% of free system memory.\n"
     ]
    },
    {
     "name": "stdout",
     "output_type": "stream",
     "text": [
      "Datasets are converted.\n",
      "Model initialized.\n",
      "Model training started.\n",
      "Epoch 1/90\n",
      "23/59 [==========>...................] - ETA: 2s - loss: 567.1711 - accuracy: 0.5089"
     ]
    }
   ],
   "source": [
    "dataset_manager = DatasetManager()\n",
    "hyperparameters = HYPERPARAMETERS\n",
    "# reduce batch_size to fit to memory and cpu\n",
    "hyperparameters[\"batch_size\"] = 1\n",
    "model = FNCModel(hyperparameters=hyperparameters)\n",
    "model.train_then_eval(train_dataset=dataset_manager.train_dataset,\n",
    "                      val_dataset=dataset_manager.val_dataset,\n",
    "                      test_dataset=dataset_manager.test_dataset,\n",
    "                      test_run_mode=True)"
   ],
   "metadata": {
    "collapsed": false,
    "pycharm": {
     "name": "#%%\n",
     "is_executing": true
    }
   }
  },
  {
   "cell_type": "code",
   "execution_count": null,
   "outputs": [],
   "source": [],
   "metadata": {
    "collapsed": false,
    "pycharm": {
     "name": "#%%\n",
     "is_executing": true
    }
   }
  }
 ],
 "metadata": {
  "kernelspec": {
   "display_name": "Python 3",
   "language": "python",
   "name": "python3"
  },
  "language_info": {
   "codemirror_mode": {
    "name": "ipython",
    "version": 2
   },
   "file_extension": ".py",
   "mimetype": "text/x-python",
   "name": "python",
   "nbconvert_exporter": "python",
   "pygments_lexer": "ipython2",
   "version": "2.7.6"
  }
 },
 "nbformat": 4,
 "nbformat_minor": 0
}