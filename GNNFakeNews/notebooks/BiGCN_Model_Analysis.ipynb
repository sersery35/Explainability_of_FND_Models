{
 "cells": [
  {
   "cell_type": "code",
   "execution_count": 1,
   "outputs": [
    {
     "name": "stderr",
     "output_type": "stream",
     "text": [
      "UsageError: Line magic function `%` not found.\n"
     ]
    }
   ],
   "source": [
    "% load_ext autoreload\n",
    "% autoreload"
   ],
   "metadata": {
    "collapsed": false,
    "pycharm": {
     "name": "#%%\n"
    }
   }
  },
  {
   "cell_type": "code",
   "execution_count": 2,
   "outputs": [
    {
     "data": {
      "text/plain": "'\\nhelper file to handle Bi-GCN model implementation in https://github.com/safe-graph/GNN-FakeNews\\n'"
     },
     "execution_count": 2,
     "metadata": {},
     "output_type": "execute_result"
    }
   ],
   "source": [
    "\"\"\"\n",
    "helper file to handle Bi-GCN model implementation in https://github.com/safe-graph/GNN-FakeNews\n",
    "\"\"\""
   ],
   "metadata": {
    "collapsed": false,
    "pycharm": {
     "name": "#%%\n"
    }
   }
  },
  {
   "cell_type": "code",
   "execution_count": 1,
   "outputs": [],
   "source": [
    "from GNNFakeNews.utils.gnn_utils.helpers import GNNModelTypeEnum\n",
    "from utils import run_model"
   ],
   "metadata": {
    "collapsed": false,
    "pycharm": {
     "name": "#%%\n"
    }
   }
  },
  {
   "cell_type": "code",
   "execution_count": 2,
   "outputs": [
    {
     "name": "stdout",
     "output_type": "stream",
     "text": [
      "Loading data from directory: /home/sersery/Desktop/TUM Informatik/SS22/Thesis/Code/Explainability_of_FND_Models/GNNFakeNews/data/gnn_fake_news\n",
      "\n",
      "************** epoch: 0 **************\n",
      "loss_train: 0.7079, acc_train: 0.2742,\n",
      "recall_train: 0.3462, auc_train: 0.1859,\n",
      "loss_val: 0.8947, acc_val: 0.4194,\n",
      "recall_val: 0.0000, auc_val: 0.3974\n",
      "***************************************\n",
      "\n",
      "************** epoch: 1 **************\n",
      "loss_train: 0.7114, acc_train: 0.5806,\n",
      "recall_train: 0.0000, auc_train: 0.5043,\n",
      "loss_val: 0.6703, acc_val: 0.6774,\n",
      "recall_val: 0.5556, auc_val: 0.7308\n",
      "***************************************\n",
      "\n",
      "************** epoch: 2 **************\n",
      "loss_train: 0.6317, acc_train: 0.8065,\n",
      "recall_train: 0.5769, auc_train: 0.8205,\n",
      "loss_val: 0.6176, acc_val: 0.6452,\n",
      "recall_val: 0.8889, auc_val: 0.7393\n",
      "***************************************\n",
      "\n",
      "************** epoch: 3 **************\n",
      "loss_train: 0.6251, acc_train: 0.6613,\n",
      "recall_train: 0.9615, auc_train: 0.8323,\n",
      "loss_val: 0.6092, acc_val: 0.7097,\n",
      "recall_val: 0.8333, auc_val: 0.7564\n",
      "***************************************\n",
      "\n",
      "************** epoch: 4 **************\n",
      "loss_train: 0.5838, acc_train: 0.7581,\n",
      "recall_train: 0.8077, auc_train: 0.8462,\n",
      "loss_val: 0.6771, acc_val: 0.5806,\n",
      "recall_val: 0.3889, auc_val: 0.7094\n",
      "***************************************\n",
      "\n",
      "************** epoch: 5 **************\n",
      "loss_train: 0.5536, acc_train: 0.7903,\n",
      "recall_train: 0.5385, auc_train: 0.8462,\n",
      "loss_val: 0.7263, acc_val: 0.4839,\n",
      "recall_val: 0.2222, auc_val: 0.7436\n",
      "***************************************\n",
      "\n",
      "************** epoch: 6 **************\n",
      "loss_train: 0.5578, acc_train: 0.7258,\n",
      "recall_train: 0.3846, auc_train: 0.8440,\n",
      "loss_val: 0.6731, acc_val: 0.5806,\n",
      "recall_val: 0.3889, auc_val: 0.7393\n",
      "***************************************\n",
      "\n",
      "************** epoch: 7 **************\n",
      "loss_train: 0.5084, acc_train: 0.7581,\n",
      "recall_train: 0.4615, auc_train: 0.8750,\n",
      "loss_val: 0.6076, acc_val: 0.7742,\n",
      "recall_val: 0.8333, auc_val: 0.7436\n",
      "***************************************\n",
      "\n",
      "************** epoch: 8 **************\n",
      "loss_train: 0.5004, acc_train: 0.8226,\n",
      "recall_train: 0.6538, auc_train: 0.8686,\n",
      "loss_val: 0.5631, acc_val: 0.7742,\n",
      "recall_val: 0.8333, auc_val: 0.7650\n",
      "***************************************\n",
      "Test set results: acc: 0.7738, f1_macro: 0.7718, f1_micro: 0.7738,precision: 0.7482, recall: 0.8428, auc: 0.8482, ap: 0.8229\n"
     ]
    }
   ],
   "source": [
    "model = run_model(GNNModelTypeEnum.BIGCN, test_mode=True)"
   ],
   "metadata": {
    "collapsed": false,
    "pycharm": {
     "name": "#%%\n"
    }
   }
  },
  {
   "cell_type": "code",
   "execution_count": 3,
   "outputs": [
    {
     "ename": "AttributeError",
     "evalue": "'tuple' object has no attribute 'shape'",
     "output_type": "error",
     "traceback": [
      "\u001B[0;31m---------------------------------------------------------------------------\u001B[0m",
      "\u001B[0;31mAttributeError\u001B[0m                            Traceback (most recent call last)",
      "Input \u001B[0;32mIn [3]\u001B[0m, in \u001B[0;36m<cell line: 1>\u001B[0;34m()\u001B[0m\n\u001B[0;32m----> 1\u001B[0m \u001B[43mmodel\u001B[49m\u001B[38;5;241;43m.\u001B[39;49m\u001B[43mexplain\u001B[49m\u001B[43m(\u001B[49m\u001B[43m)\u001B[49m\n",
      "File \u001B[0;32m~/Desktop/TUM Informatik/SS22/Thesis/Code/Explainability_of_FND_Models/GNNFakeNews/utils/gnn_utils/helpers.py:131\u001B[0m, in \u001B[0;36mGNNModelHelper.explain\u001B[0;34m(self, background_data, test_data)\u001B[0m\n\u001B[1;32m    129\u001B[0m test \u001B[38;5;241m=\u001B[39m test_data \u001B[38;5;28;01mif\u001B[39;00m test_data \u001B[38;5;129;01mis\u001B[39;00m \u001B[38;5;129;01mnot\u001B[39;00m \u001B[38;5;28;01mNone\u001B[39;00m \u001B[38;5;28;01melse\u001B[39;00m \u001B[38;5;28mself\u001B[39m\u001B[38;5;241m.\u001B[39mm_dataset_manager\u001B[38;5;241m.\u001B[39mget_test_samples()\n\u001B[1;32m    130\u001B[0m explainer \u001B[38;5;241m=\u001B[39m shap\u001B[38;5;241m.\u001B[39mExplainer(\u001B[38;5;28mself\u001B[39m, background)\n\u001B[0;32m--> 131\u001B[0m shap_values \u001B[38;5;241m=\u001B[39m \u001B[43mexplainer\u001B[49m\u001B[43m(\u001B[49m\u001B[43mtest\u001B[49m\u001B[43m)\u001B[49m\n\u001B[1;32m    132\u001B[0m shap\u001B[38;5;241m.\u001B[39mplots\u001B[38;5;241m.\u001B[39mtext(shap_values)\n",
      "File \u001B[0;32m~/anaconda3/envs/thesis/lib/python3.10/site-packages/shap/explainers/_permutation.py:74\u001B[0m, in \u001B[0;36mPermutation.__call__\u001B[0;34m(self, max_evals, main_effects, error_bounds, batch_size, outputs, silent, *args)\u001B[0m\n\u001B[1;32m     70\u001B[0m \u001B[38;5;28;01mdef\u001B[39;00m \u001B[38;5;21m__call__\u001B[39m(\u001B[38;5;28mself\u001B[39m, \u001B[38;5;241m*\u001B[39margs, max_evals\u001B[38;5;241m=\u001B[39m\u001B[38;5;241m500\u001B[39m, main_effects\u001B[38;5;241m=\u001B[39m\u001B[38;5;28;01mFalse\u001B[39;00m, error_bounds\u001B[38;5;241m=\u001B[39m\u001B[38;5;28;01mFalse\u001B[39;00m, batch_size\u001B[38;5;241m=\u001B[39m\u001B[38;5;124m\"\u001B[39m\u001B[38;5;124mauto\u001B[39m\u001B[38;5;124m\"\u001B[39m,\n\u001B[1;32m     71\u001B[0m              outputs\u001B[38;5;241m=\u001B[39m\u001B[38;5;28;01mNone\u001B[39;00m, silent\u001B[38;5;241m=\u001B[39m\u001B[38;5;28;01mFalse\u001B[39;00m):\n\u001B[1;32m     72\u001B[0m     \u001B[38;5;124;03m\"\"\" Explain the output of the model on the given arguments.\u001B[39;00m\n\u001B[1;32m     73\u001B[0m \u001B[38;5;124;03m    \"\"\"\u001B[39;00m\n\u001B[0;32m---> 74\u001B[0m     \u001B[38;5;28;01mreturn\u001B[39;00m \u001B[38;5;28;43msuper\u001B[39;49m\u001B[43m(\u001B[49m\u001B[43m)\u001B[49m\u001B[38;5;241;43m.\u001B[39;49m\u001B[38;5;21;43m__call__\u001B[39;49m\u001B[43m(\u001B[49m\n\u001B[1;32m     75\u001B[0m \u001B[43m        \u001B[49m\u001B[38;5;241;43m*\u001B[39;49m\u001B[43margs\u001B[49m\u001B[43m,\u001B[49m\u001B[43m \u001B[49m\u001B[43mmax_evals\u001B[49m\u001B[38;5;241;43m=\u001B[39;49m\u001B[43mmax_evals\u001B[49m\u001B[43m,\u001B[49m\u001B[43m \u001B[49m\u001B[43mmain_effects\u001B[49m\u001B[38;5;241;43m=\u001B[39;49m\u001B[43mmain_effects\u001B[49m\u001B[43m,\u001B[49m\u001B[43m \u001B[49m\u001B[43merror_bounds\u001B[49m\u001B[38;5;241;43m=\u001B[39;49m\u001B[43merror_bounds\u001B[49m\u001B[43m,\u001B[49m\u001B[43m \u001B[49m\u001B[43mbatch_size\u001B[49m\u001B[38;5;241;43m=\u001B[39;49m\u001B[43mbatch_size\u001B[49m\u001B[43m,\u001B[49m\n\u001B[1;32m     76\u001B[0m \u001B[43m        \u001B[49m\u001B[43moutputs\u001B[49m\u001B[38;5;241;43m=\u001B[39;49m\u001B[43moutputs\u001B[49m\u001B[43m,\u001B[49m\u001B[43m \u001B[49m\u001B[43msilent\u001B[49m\u001B[38;5;241;43m=\u001B[39;49m\u001B[43msilent\u001B[49m\n\u001B[1;32m     77\u001B[0m \u001B[43m    \u001B[49m\u001B[43m)\u001B[49m\n",
      "File \u001B[0;32m~/anaconda3/envs/thesis/lib/python3.10/site-packages/shap/explainers/_explainer.py:258\u001B[0m, in \u001B[0;36mExplainer.__call__\u001B[0;34m(self, max_evals, main_effects, error_bounds, batch_size, outputs, silent, *args, **kwargs)\u001B[0m\n\u001B[1;32m    256\u001B[0m     feature_names \u001B[38;5;241m=\u001B[39m [[] \u001B[38;5;28;01mfor\u001B[39;00m _ \u001B[38;5;129;01min\u001B[39;00m \u001B[38;5;28mrange\u001B[39m(\u001B[38;5;28mlen\u001B[39m(args))]\n\u001B[1;32m    257\u001B[0m \u001B[38;5;28;01mfor\u001B[39;00m row_args \u001B[38;5;129;01min\u001B[39;00m show_progress(\u001B[38;5;28mzip\u001B[39m(\u001B[38;5;241m*\u001B[39margs), num_rows, \u001B[38;5;28mself\u001B[39m\u001B[38;5;241m.\u001B[39m\u001B[38;5;18m__class__\u001B[39m\u001B[38;5;241m.\u001B[39m\u001B[38;5;18m__name__\u001B[39m\u001B[38;5;241m+\u001B[39m\u001B[38;5;124m\"\u001B[39m\u001B[38;5;124m explainer\u001B[39m\u001B[38;5;124m\"\u001B[39m, silent):\n\u001B[0;32m--> 258\u001B[0m     row_result \u001B[38;5;241m=\u001B[39m \u001B[38;5;28;43mself\u001B[39;49m\u001B[38;5;241;43m.\u001B[39;49m\u001B[43mexplain_row\u001B[49m\u001B[43m(\u001B[49m\n\u001B[1;32m    259\u001B[0m \u001B[43m        \u001B[49m\u001B[38;5;241;43m*\u001B[39;49m\u001B[43mrow_args\u001B[49m\u001B[43m,\u001B[49m\u001B[43m \u001B[49m\u001B[43mmax_evals\u001B[49m\u001B[38;5;241;43m=\u001B[39;49m\u001B[43mmax_evals\u001B[49m\u001B[43m,\u001B[49m\u001B[43m \u001B[49m\u001B[43mmain_effects\u001B[49m\u001B[38;5;241;43m=\u001B[39;49m\u001B[43mmain_effects\u001B[49m\u001B[43m,\u001B[49m\u001B[43m \u001B[49m\u001B[43merror_bounds\u001B[49m\u001B[38;5;241;43m=\u001B[39;49m\u001B[43merror_bounds\u001B[49m\u001B[43m,\u001B[49m\n\u001B[1;32m    260\u001B[0m \u001B[43m        \u001B[49m\u001B[43mbatch_size\u001B[49m\u001B[38;5;241;43m=\u001B[39;49m\u001B[43mbatch_size\u001B[49m\u001B[43m,\u001B[49m\u001B[43m \u001B[49m\u001B[43moutputs\u001B[49m\u001B[38;5;241;43m=\u001B[39;49m\u001B[43moutputs\u001B[49m\u001B[43m,\u001B[49m\u001B[43m \u001B[49m\u001B[43msilent\u001B[49m\u001B[38;5;241;43m=\u001B[39;49m\u001B[43msilent\u001B[49m\u001B[43m,\u001B[49m\u001B[43m \u001B[49m\u001B[38;5;241;43m*\u001B[39;49m\u001B[38;5;241;43m*\u001B[39;49m\u001B[43mkwargs\u001B[49m\n\u001B[1;32m    261\u001B[0m \u001B[43m    \u001B[49m\u001B[43m)\u001B[49m\n\u001B[1;32m    262\u001B[0m     values\u001B[38;5;241m.\u001B[39mappend(row_result\u001B[38;5;241m.\u001B[39mget(\u001B[38;5;124m\"\u001B[39m\u001B[38;5;124mvalues\u001B[39m\u001B[38;5;124m\"\u001B[39m, \u001B[38;5;28;01mNone\u001B[39;00m))\n\u001B[1;32m    263\u001B[0m     output_indices\u001B[38;5;241m.\u001B[39mappend(row_result\u001B[38;5;241m.\u001B[39mget(\u001B[38;5;124m\"\u001B[39m\u001B[38;5;124moutput_indices\u001B[39m\u001B[38;5;124m\"\u001B[39m, \u001B[38;5;28;01mNone\u001B[39;00m))\n",
      "File \u001B[0;32m~/anaconda3/envs/thesis/lib/python3.10/site-packages/shap/explainers/_permutation.py:84\u001B[0m, in \u001B[0;36mPermutation.explain_row\u001B[0;34m(self, max_evals, main_effects, error_bounds, batch_size, outputs, silent, *row_args)\u001B[0m\n\u001B[1;32m     80\u001B[0m \u001B[38;5;124;03m\"\"\" Explains a single row and returns the tuple (row_values, row_expected_values, row_mask_shapes).\u001B[39;00m\n\u001B[1;32m     81\u001B[0m \u001B[38;5;124;03m\"\"\"\u001B[39;00m\n\u001B[1;32m     83\u001B[0m \u001B[38;5;66;03m# build a masked version of the model for the current input sample\u001B[39;00m\n\u001B[0;32m---> 84\u001B[0m fm \u001B[38;5;241m=\u001B[39m \u001B[43mMaskedModel\u001B[49m\u001B[43m(\u001B[49m\u001B[38;5;28;43mself\u001B[39;49m\u001B[38;5;241;43m.\u001B[39;49m\u001B[43mmodel\u001B[49m\u001B[43m,\u001B[49m\u001B[43m \u001B[49m\u001B[38;5;28;43mself\u001B[39;49m\u001B[38;5;241;43m.\u001B[39;49m\u001B[43mmasker\u001B[49m\u001B[43m,\u001B[49m\u001B[43m \u001B[49m\u001B[38;5;28;43mself\u001B[39;49m\u001B[38;5;241;43m.\u001B[39;49m\u001B[43mlink\u001B[49m\u001B[43m,\u001B[49m\u001B[43m \u001B[49m\u001B[38;5;28;43mself\u001B[39;49m\u001B[38;5;241;43m.\u001B[39;49m\u001B[43mlinearize_link\u001B[49m\u001B[43m,\u001B[49m\u001B[43m \u001B[49m\u001B[38;5;241;43m*\u001B[39;49m\u001B[43mrow_args\u001B[49m\u001B[43m)\u001B[49m\n\u001B[1;32m     86\u001B[0m \u001B[38;5;66;03m# by default we run 10 permutations forward and backward\u001B[39;00m\n\u001B[1;32m     87\u001B[0m \u001B[38;5;28;01mif\u001B[39;00m max_evals \u001B[38;5;241m==\u001B[39m \u001B[38;5;124m\"\u001B[39m\u001B[38;5;124mauto\u001B[39m\u001B[38;5;124m\"\u001B[39m:\n",
      "File \u001B[0;32m~/anaconda3/envs/thesis/lib/python3.10/site-packages/shap/utils/_masked_model.py:48\u001B[0m, in \u001B[0;36mMaskedModel.__init__\u001B[0;34m(self, model, masker, link, linearize_link, *args)\u001B[0m\n\u001B[1;32m     46\u001B[0m \u001B[38;5;28;01melse\u001B[39;00m:\n\u001B[1;32m     47\u001B[0m     \u001B[38;5;28mself\u001B[39m\u001B[38;5;241m.\u001B[39m_masker_rows \u001B[38;5;241m=\u001B[39m \u001B[38;5;28;01mNone\u001B[39;00m\u001B[38;5;66;03m# # just assuming...\u001B[39;00m\n\u001B[0;32m---> 48\u001B[0m     \u001B[38;5;28mself\u001B[39m\u001B[38;5;241m.\u001B[39m_masker_cols \u001B[38;5;241m=\u001B[39m \u001B[38;5;28;43msum\u001B[39;49m\u001B[43m(\u001B[49m\u001B[43mnp\u001B[49m\u001B[38;5;241;43m.\u001B[39;49m\u001B[43mprod\u001B[49m\u001B[43m(\u001B[49m\u001B[43ma\u001B[49m\u001B[38;5;241;43m.\u001B[39;49m\u001B[43mshape\u001B[49m\u001B[43m)\u001B[49m\u001B[43m \u001B[49m\u001B[38;5;28;43;01mfor\u001B[39;49;00m\u001B[43m \u001B[49m\u001B[43ma\u001B[49m\u001B[43m \u001B[49m\u001B[38;5;129;43;01min\u001B[39;49;00m\u001B[43m \u001B[49m\u001B[38;5;28;43mself\u001B[39;49m\u001B[38;5;241;43m.\u001B[39;49m\u001B[43margs\u001B[49m\u001B[43m)\u001B[49m\n\u001B[1;32m     50\u001B[0m \u001B[38;5;28mself\u001B[39m\u001B[38;5;241m.\u001B[39m_linearizing_weights \u001B[38;5;241m=\u001B[39m \u001B[38;5;28;01mNone\u001B[39;00m\n",
      "File \u001B[0;32m~/anaconda3/envs/thesis/lib/python3.10/site-packages/shap/utils/_masked_model.py:48\u001B[0m, in \u001B[0;36m<genexpr>\u001B[0;34m(.0)\u001B[0m\n\u001B[1;32m     46\u001B[0m \u001B[38;5;28;01melse\u001B[39;00m:\n\u001B[1;32m     47\u001B[0m     \u001B[38;5;28mself\u001B[39m\u001B[38;5;241m.\u001B[39m_masker_rows \u001B[38;5;241m=\u001B[39m \u001B[38;5;28;01mNone\u001B[39;00m\u001B[38;5;66;03m# # just assuming...\u001B[39;00m\n\u001B[0;32m---> 48\u001B[0m     \u001B[38;5;28mself\u001B[39m\u001B[38;5;241m.\u001B[39m_masker_cols \u001B[38;5;241m=\u001B[39m \u001B[38;5;28msum\u001B[39m(np\u001B[38;5;241m.\u001B[39mprod(\u001B[43ma\u001B[49m\u001B[38;5;241;43m.\u001B[39;49m\u001B[43mshape\u001B[49m) \u001B[38;5;28;01mfor\u001B[39;00m a \u001B[38;5;129;01min\u001B[39;00m \u001B[38;5;28mself\u001B[39m\u001B[38;5;241m.\u001B[39margs)\n\u001B[1;32m     50\u001B[0m \u001B[38;5;28mself\u001B[39m\u001B[38;5;241m.\u001B[39m_linearizing_weights \u001B[38;5;241m=\u001B[39m \u001B[38;5;28;01mNone\u001B[39;00m\n",
      "\u001B[0;31mAttributeError\u001B[0m: 'tuple' object has no attribute 'shape'"
     ]
    }
   ],
   "source": [
    "model.explain()"
   ],
   "metadata": {
    "collapsed": false,
    "pycharm": {
     "name": "#%%\n"
    }
   }
  },
  {
   "cell_type": "code",
   "execution_count": null,
   "outputs": [],
   "source": [],
   "metadata": {
    "collapsed": false,
    "pycharm": {
     "name": "#%%\n"
    }
   }
  }
 ],
 "metadata": {
  "kernelspec": {
   "display_name": "Python 3",
   "language": "python",
   "name": "python3"
  },
  "language_info": {
   "codemirror_mode": {
    "name": "ipython",
    "version": 2
   },
   "file_extension": ".py",
   "mimetype": "text/x-python",
   "name": "python",
   "nbconvert_exporter": "python",
   "pygments_lexer": "ipython2",
   "version": "2.7.6"
  }
 },
 "nbformat": 4,
 "nbformat_minor": 0
}