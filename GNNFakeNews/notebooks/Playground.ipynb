{
 "cells": [
  {
   "cell_type": "code",
   "execution_count": 1,
   "outputs": [],
   "source": [
    "from GNNFakeNews.utils.helpers import load_pkl_file"
   ],
   "metadata": {
    "collapsed": false,
    "pycharm": {
     "name": "#%%\n"
    }
   }
  },
  {
   "cell_type": "code",
   "execution_count": 2,
   "outputs": [],
   "source": [
    "gossipcop_twitter_data_mapping = load_pkl_file('gos_id_twitter_mapping.pkl')"
   ],
   "metadata": {
    "collapsed": false,
    "pycharm": {
     "name": "#%%\n"
    }
   }
  },
  {
   "cell_type": "code",
   "execution_count": 5,
   "outputs": [
    {
     "name": "stdout",
     "output_type": "stream",
     "text": [
      "KEY: 0\n",
      "VALUE: gossipcop-943234\n",
      "############################\n",
      "KEY: 1\n",
      "VALUE: 199874723\n",
      "############################\n",
      "KEY: 2\n",
      "VALUE: 2471499625\n",
      "############################\n",
      "KEY: 3\n",
      "VALUE: 2471499625\n",
      "############################\n",
      "KEY: 4\n",
      "VALUE: 785523426119213056\n",
      "############################\n",
      "KEY: 5\n",
      "VALUE: 2530389144\n",
      "############################\n",
      "KEY: 6\n",
      "VALUE: 3157125579\n",
      "############################\n",
      "KEY: 7\n",
      "VALUE: 710401157206810624\n",
      "############################\n",
      "KEY: 8\n",
      "VALUE: 909386104561963008\n",
      "############################\n",
      "KEY: 9\n",
      "VALUE: 2530389144\n",
      "############################\n",
      "KEY: 10\n",
      "VALUE: 2530389144\n",
      "############################\n"
     ]
    }
   ],
   "source": [
    "i = 0\n",
    "for key, value in gossipcop_twitter_data_mapping.items():\n",
    "    print(f'Node id in the dataset: {key}\\ntwitter user id: {value}')\n",
    "    print('############################')\n",
    "    if i == 10:\n",
    "        break\n",
    "    i += 1"
   ],
   "metadata": {
    "collapsed": false,
    "pycharm": {
     "name": "#%%\n"
    }
   }
  },
  {
   "cell_type": "code",
   "execution_count": 6,
   "outputs": [
    {
     "name": "stdout",
     "output_type": "stream",
     "text": [
      "Node id in the dataset: 0\n",
      "twitter user id: politifact4190\n",
      "############################\n",
      "Node id in the dataset: 1\n",
      "twitter user id: 14200465\n",
      "############################\n",
      "Node id in the dataset: 2\n",
      "twitter user id: 18244561\n",
      "############################\n",
      "Node id in the dataset: 3\n",
      "twitter user id: 12006852\n",
      "############################\n",
      "Node id in the dataset: 4\n",
      "twitter user id: 18244561\n",
      "############################\n",
      "Node id in the dataset: 5\n",
      "twitter user id: 14200465\n",
      "############################\n",
      "Node id in the dataset: 6\n",
      "twitter user id: 16598913\n",
      "############################\n",
      "Node id in the dataset: 7\n",
      "twitter user id: 9335232\n",
      "############################\n",
      "Node id in the dataset: 8\n",
      "twitter user id: 44169939\n",
      "############################\n",
      "Node id in the dataset: 9\n",
      "twitter user id: 14779167\n",
      "############################\n",
      "Node id in the dataset: 10\n",
      "twitter user id: 95251635\n",
      "############################\n"
     ]
    }
   ],
   "source": [
    "politifact_twitter_data_mapping = load_pkl_file('pol_id_twitter_mapping.pkl')\n",
    "i = 0\n",
    "for key, value in politifact_twitter_data_mapping.items():\n",
    "    print(f'Node id in the dataset: {key}\\ntwitter user id: {value}')\n",
    "    print('############################')\n",
    "    if i == 10:\n",
    "        break\n",
    "    i += 1"
   ],
   "metadata": {
    "collapsed": false,
    "pycharm": {
     "name": "#%%\n"
    }
   }
  },
  {
   "cell_type": "code",
   "execution_count": null,
   "outputs": [],
   "source": [
    "from torch_geometric.nn import  GNNExplainer"
   ],
   "metadata": {
    "collapsed": false,
    "pycharm": {
     "name": "#%%\n"
    }
   }
  }
 ],
 "metadata": {
  "kernelspec": {
   "display_name": "Python 3",
   "language": "python",
   "name": "python3"
  },
  "language_info": {
   "codemirror_mode": {
    "name": "ipython",
    "version": 2
   },
   "file_extension": ".py",
   "mimetype": "text/x-python",
   "name": "python",
   "nbconvert_exporter": "python",
   "pygments_lexer": "ipython2",
   "version": "2.7.6"
  }
 },
 "nbformat": 4,
 "nbformat_minor": 0
}