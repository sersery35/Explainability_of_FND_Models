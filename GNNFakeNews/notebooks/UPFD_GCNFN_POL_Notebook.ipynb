{
 "cells": [
  {
   "cell_type": "markdown",
   "source": [
    "### helper file to handle UPFD GCNFN model implementation in https://github.com/safe-graph/GNN-FakeNews"
   ],
   "metadata": {
    "collapsed": false,
    "pycharm": {
     "name": "#%% md\n"
    }
   }
  },
  {
   "cell_type": "code",
   "execution_count": 1,
   "outputs": [],
   "source": [
    "%load_ext autoreload\n",
    "%autoreload 2"
   ],
   "metadata": {
    "collapsed": false,
    "pycharm": {
     "name": "#%%\n"
    }
   }
  },
  {
   "cell_type": "code",
   "execution_count": 2,
   "outputs": [
    {
     "name": "stderr",
     "output_type": "stream",
     "text": [
      "/home/sersery/Applications/anaconda3/envs/gnnfakenews/lib/python3.7/site-packages/torch/cuda/__init__.py:82: UserWarning: CUDA initialization: CUDA unknown error - this may be due to an incorrectly set up environment, e.g. changing env variable CUDA_VISIBLE_DEVICES after program start. Setting the available devices to be zero. (Triggered internally at  /opt/conda/conda-bld/pytorch_1646755953518/work/c10/cuda/CUDAFunctions.cpp:112.)\n",
      "  return torch._C._cuda_getDeviceCount() > 0\n"
     ]
    }
   ],
   "source": [
    "from util import run_model\n",
    "from GNNFakeNews.utils.helpers.hyperparameter_factory import HparamFactory\n",
    "from GNNFakeNews.utils.helpers.gnn_model_explainer import  GNNModelExplainer\n",
    "from GNNFakeNews.utils.enums import GNNModelTypeEnum, GNNFeatureTypeEnum"
   ],
   "metadata": {
    "collapsed": false,
    "pycharm": {
     "name": "#%%\n"
    }
   }
  },
  {
   "cell_type": "markdown",
   "source": [
    "# 1.1. UPFD_GCNFN"
   ],
   "metadata": {
    "collapsed": false,
    "pycharm": {
     "name": "#%% md\n"
    }
   }
  },
  {
   "cell_type": "markdown",
   "source": [
    "## DATASET TYPE = POLITIFACT, FEATURE = SPACY"
   ],
   "metadata": {
    "collapsed": false,
    "pycharm": {
     "name": "#%% md\n"
    }
   }
  },
  {
   "cell_type": "code",
   "execution_count": 3,
   "outputs": [
    {
     "name": "stdout",
     "output_type": "stream",
     "text": [
      "#################################\n",
      "-----> The hyperparameters are set!\n",
      "model_type = GNNModelTypeEnum.UPFD_GCNFN\n",
      "dataset = GNNDatasetTypeEnum.POLITIFACT\n",
      "batch_size = 128\n",
      "lr = 0.01\n",
      "weight_decay = 0.001\n",
      "n_hidden = 128\n",
      "epochs = 60\n",
      "transform = <GNNFakeNews.utils.data_loader.ToUndirected object at 0x7f362c096b50>\n",
      "feature = GNNFeatureTypeEnum.BERT\n",
      "concat = True\n",
      "#################################\n"
     ]
    },
    {
     "ename": "ValueError",
     "evalue": "device cannot be DeviceTypeEnum.GPU, because CUDA is not available.",
     "output_type": "error",
     "traceback": [
      "\u001B[0;31m---------------------------------------------------------------------------\u001B[0m",
      "\u001B[0;31mValueError\u001B[0m                                Traceback (most recent call last)",
      "\u001B[0;32m/tmp/ipykernel_1101389/1833645661.py\u001B[0m in \u001B[0;36m<module>\u001B[0;34m\u001B[0m\n\u001B[1;32m      1\u001B[0m \u001B[0mmodel_type\u001B[0m \u001B[0;34m=\u001B[0m \u001B[0mGNNModelTypeEnum\u001B[0m\u001B[0;34m.\u001B[0m\u001B[0mUPFD_GCNFN\u001B[0m\u001B[0;34m\u001B[0m\u001B[0;34m\u001B[0m\u001B[0m\n\u001B[1;32m      2\u001B[0m \u001B[0;31m# follow the paper of UPFD for best performance.\u001B[0m\u001B[0;34m\u001B[0m\u001B[0;34m\u001B[0m\u001B[0;34m\u001B[0m\u001B[0m\n\u001B[0;32m----> 3\u001B[0;31m \u001B[0mmodel\u001B[0m\u001B[0;34m,\u001B[0m \u001B[0mdataset_manager\u001B[0m \u001B[0;34m=\u001B[0m \u001B[0mrun_model\u001B[0m\u001B[0;34m(\u001B[0m\u001B[0mmodel_type\u001B[0m\u001B[0;34m,\u001B[0m \u001B[0mhparams\u001B[0m\u001B[0;34m=\u001B[0m\u001B[0mHparamFactory\u001B[0m\u001B[0;34m(\u001B[0m\u001B[0mmodel_type\u001B[0m\u001B[0;34m,\u001B[0m \u001B[0mfeature\u001B[0m\u001B[0;34m=\u001B[0m\u001B[0mGNNFeatureTypeEnum\u001B[0m\u001B[0;34m.\u001B[0m\u001B[0mBERT\u001B[0m\u001B[0;34m)\u001B[0m\u001B[0;34m)\u001B[0m\u001B[0;34m\u001B[0m\u001B[0;34m\u001B[0m\u001B[0m\n\u001B[0m",
      "\u001B[0;32m~/Desktop/TUM Informatik/SS22/Thesis/Code/Explainability_of_FND_Models/GNNFakeNews/notebooks/util.py\u001B[0m in \u001B[0;36mrun_model\u001B[0;34m(model_type, test_mode, return_dataset_manager, local_load, hparams, verbose)\u001B[0m\n\u001B[1;32m     40\u001B[0m \u001B[0;34m\u001B[0m\u001B[0m\n\u001B[1;32m     41\u001B[0m     \"\"\"\n\u001B[0;32m---> 42\u001B[0;31m     \u001B[0margs\u001B[0m \u001B[0;34m=\u001B[0m \u001B[0mModelArguments\u001B[0m\u001B[0;34m(\u001B[0m\u001B[0;34m)\u001B[0m\u001B[0;34m\u001B[0m\u001B[0;34m\u001B[0m\u001B[0m\n\u001B[0m\u001B[1;32m     43\u001B[0m     \u001B[0mmodel_hparams\u001B[0m \u001B[0;34m=\u001B[0m \u001B[0mHparamFactory\u001B[0m\u001B[0;34m(\u001B[0m\u001B[0mmodel_type\u001B[0m\u001B[0;34m,\u001B[0m \u001B[0mtest_mode\u001B[0m\u001B[0;34m=\u001B[0m\u001B[0mtest_mode\u001B[0m\u001B[0;34m)\u001B[0m \u001B[0;32mif\u001B[0m \u001B[0mhparams\u001B[0m \u001B[0;32mis\u001B[0m \u001B[0;32mNone\u001B[0m \u001B[0;32melse\u001B[0m \u001B[0mhparams\u001B[0m\u001B[0;34m\u001B[0m\u001B[0;34m\u001B[0m\u001B[0m\n\u001B[1;32m     44\u001B[0m     \u001B[0mdataset_manager\u001B[0m \u001B[0;34m=\u001B[0m \u001B[0mGNNDatasetManager\u001B[0m\u001B[0;34m(\u001B[0m\u001B[0mlocal_load\u001B[0m\u001B[0;34m=\u001B[0m\u001B[0mlocal_load\u001B[0m\u001B[0;34m,\u001B[0m \u001B[0mhparam_manager\u001B[0m\u001B[0;34m=\u001B[0m\u001B[0mmodel_hparams\u001B[0m\u001B[0;34m,\u001B[0m \u001B[0mmulti_gpu\u001B[0m\u001B[0;34m=\u001B[0m\u001B[0margs\u001B[0m\u001B[0;34m.\u001B[0m\u001B[0mmulti_gpu\u001B[0m\u001B[0;34m)\u001B[0m\u001B[0;34m\u001B[0m\u001B[0;34m\u001B[0m\u001B[0m\n",
      "\u001B[0;32m~/Desktop/TUM Informatik/SS22/Thesis/Code/Explainability_of_FND_Models/GNNFakeNews/utils/helpers/gnn_model_arguments.py\u001B[0m in \u001B[0;36m__init__\u001B[0;34m(self, seed, device, multi_gpu)\u001B[0m\n\u001B[1;32m     15\u001B[0m         \u001B[0mself\u001B[0m\u001B[0;34m.\u001B[0m\u001B[0mseed\u001B[0m \u001B[0;34m=\u001B[0m \u001B[0mseed\u001B[0m\u001B[0;34m\u001B[0m\u001B[0;34m\u001B[0m\u001B[0m\n\u001B[1;32m     16\u001B[0m         \u001B[0;32mif\u001B[0m \u001B[0;32mnot\u001B[0m \u001B[0mtorch\u001B[0m\u001B[0;34m.\u001B[0m\u001B[0mcuda\u001B[0m\u001B[0;34m.\u001B[0m\u001B[0mis_available\u001B[0m\u001B[0;34m(\u001B[0m\u001B[0;34m)\u001B[0m \u001B[0;32mand\u001B[0m \u001B[0mdevice\u001B[0m \u001B[0;34m==\u001B[0m \u001B[0mDeviceTypeEnum\u001B[0m\u001B[0;34m.\u001B[0m\u001B[0mGPU\u001B[0m\u001B[0;34m:\u001B[0m\u001B[0;34m\u001B[0m\u001B[0;34m\u001B[0m\u001B[0m\n\u001B[0;32m---> 17\u001B[0;31m             \u001B[0;32mraise\u001B[0m \u001B[0mValueError\u001B[0m\u001B[0;34m(\u001B[0m\u001B[0;34mf'device cannot be {DeviceTypeEnum.GPU}, because CUDA is not available.'\u001B[0m\u001B[0;34m)\u001B[0m\u001B[0;34m\u001B[0m\u001B[0;34m\u001B[0m\u001B[0m\n\u001B[0m\u001B[1;32m     18\u001B[0m         \u001B[0mself\u001B[0m\u001B[0;34m.\u001B[0m\u001B[0mdevice\u001B[0m \u001B[0;34m=\u001B[0m \u001B[0mtorch\u001B[0m\u001B[0;34m.\u001B[0m\u001B[0mdevice\u001B[0m\u001B[0;34m(\u001B[0m\u001B[0mdevice\u001B[0m\u001B[0;34m.\u001B[0m\u001B[0mvalue\u001B[0m\u001B[0;34m)\u001B[0m\u001B[0;34m\u001B[0m\u001B[0;34m\u001B[0m\u001B[0m\n\u001B[1;32m     19\u001B[0m         \u001B[0mself\u001B[0m\u001B[0;34m.\u001B[0m\u001B[0mmulti_gpu\u001B[0m \u001B[0;34m=\u001B[0m \u001B[0mmulti_gpu\u001B[0m\u001B[0;34m\u001B[0m\u001B[0;34m\u001B[0m\u001B[0m\n",
      "\u001B[0;31mValueError\u001B[0m: device cannot be DeviceTypeEnum.GPU, because CUDA is not available."
     ]
    }
   ],
   "source": [
    "model_type = GNNModelTypeEnum.UPFD_GCNFN\n",
    "# follow the paper of UPFD for best performance.\n",
    "model, dataset_manager = run_model(model_type, hparams=HparamFactory(model_type, feature=GNNFeatureTypeEnum.BERT))"
   ],
   "metadata": {
    "collapsed": false,
    "pycharm": {
     "name": "#%%\n"
    }
   }
  },
  {
   "cell_type": "code",
   "execution_count": null,
   "outputs": [],
   "source": [
    "sample_data = dataset_manager.get_random_train_samples(device=model.m_args.device, label=0)[0]\n",
    "explainer = GNNModelExplainer(model, sample_data)"
   ],
   "metadata": {
    "collapsed": false,
    "pycharm": {
     "name": "#%%\n"
    }
   }
  },
  {
   "cell_type": "code",
   "execution_count": null,
   "outputs": [],
   "source": [
    "sample_data.x.size()"
   ],
   "metadata": {
    "collapsed": false,
    "pycharm": {
     "name": "#%%\n"
    }
   }
  },
  {
   "cell_type": "code",
   "execution_count": null,
   "outputs": [],
   "source": [
    "explainer.visualize_explaining_graph()"
   ],
   "metadata": {
    "collapsed": false,
    "pycharm": {
     "name": "#%%\n"
    }
   }
  },
  {
   "cell_type": "code",
   "execution_count": null,
   "outputs": [],
   "source": [
    "len(sample_data.x[0])"
   ],
   "metadata": {
    "collapsed": false,
    "pycharm": {
     "name": "#%%\n"
    }
   }
  },
  {
   "cell_type": "markdown",
   "source": [
    "### Randomly sample 10 fake news instances and explain them"
   ],
   "metadata": {
    "collapsed": false,
    "pycharm": {
     "name": "#%% md\n"
    }
   }
  },
  {
   "cell_type": "code",
   "execution_count": null,
   "outputs": [],
   "source": [
    "sample_data_list = dataset_manager.get_random_train_samples(device=model.m_args.device, label=0, len_samples=10)\n",
    "explainers = []\n",
    "user_ids = []\n",
    "for sample in sample_data_list:\n",
    "    e = GNNModelExplainer(model, sample)\n",
    "    e.visualize_explaining_graph()\n",
    "    user_ids.append(e.get_node_ids_of_explaining_subgraph())\n",
    "    explainers.append(e)"
   ],
   "metadata": {
    "collapsed": false,
    "pycharm": {
     "name": "#%%\n"
    }
   }
  },
  {
   "cell_type": "code",
   "execution_count": null,
   "outputs": [],
   "source": [
    "explainer.visualize_adjacency_matrix()"
   ],
   "metadata": {
    "collapsed": false,
    "pycharm": {
     "name": "#%%\n"
    }
   }
  },
  {
   "cell_type": "code",
   "execution_count": null,
   "outputs": [],
   "source": [
    "import numpy as np\n",
    "arr = user_ids[0]\n",
    "for i in range(1, len(user_ids)):\n",
    "    arr = np.intersect1d(arr, user_ids[i])\n",
    "print(arr)"
   ],
   "metadata": {
    "collapsed": false,
    "pycharm": {
     "name": "#%%\n"
    }
   }
  },
  {
   "cell_type": "markdown",
   "source": [
    "### Randomly sample 10 real news instances and explain them"
   ],
   "metadata": {
    "collapsed": false,
    "pycharm": {
     "name": "#%% md\n"
    }
   }
  },
  {
   "cell_type": "code",
   "execution_count": null,
   "outputs": [],
   "source": [
    "sample_data_list = dataset_manager.get_random_train_samples(device=model.m_args.device, label=1, len_samples=10)\n",
    "explainers = []\n",
    "user_ids = []\n",
    "for sample in sample_data_list:\n",
    "    e = GNNModelExplainer(model, sample)\n",
    "    e.visualize_explaining_graph()\n",
    "    user_ids.append(e.get_node_ids_of_explaining_subgraph())\n",
    "    explainers.append(e)"
   ],
   "metadata": {
    "collapsed": false,
    "pycharm": {
     "name": "#%%\n"
    }
   }
  },
  {
   "cell_type": "code",
   "execution_count": null,
   "outputs": [],
   "source": [
    "user_ids"
   ],
   "metadata": {
    "collapsed": false,
    "pycharm": {
     "name": "#%%\n"
    }
   }
  },
  {
   "cell_type": "code",
   "execution_count": null,
   "outputs": [],
   "source": [
    "from util import load_pkl_files\n",
    "node_id_user_id_map, node_id_time_map = load_pkl_files(model.m_hparams.dataset)\n",
    "\n",
    "for i in explainer.subgraph.nodes.items():\n",
    "    print(i[0])"
   ],
   "metadata": {
    "collapsed": false,
    "pycharm": {
     "name": "#%%\n"
    }
   }
  },
  {
   "cell_type": "code",
   "execution_count": null,
   "outputs": [],
   "source": [
    "from util import get_news_id_node_id_user_id_dict\n",
    "\n",
    "news_node_user_dict, index_news_id_dict = get_news_id_node_id_user_id_dict(model.m_hparams.dataset)"
   ],
   "metadata": {
    "collapsed": false,
    "pycharm": {
     "name": "#%%\n"
    }
   }
  },
  {
   "cell_type": "code",
   "execution_count": null,
   "outputs": [],
   "source": [
    "# we make a sanity check\n",
    "for idx in dataset_manager.train_set.indices:\n",
    "    news_id = index_news_id_dict[idx]\n",
    "    node_user_dict = news_node_user_dict[news_id]\n",
    "    # get the node number of current graph\n",
    "    num_nodes_ds = dataset_manager.train_set.dataset.get(idx).num_nodes\n",
    "    num_nodes_dict = len(node_user_dict.keys()) + 1 # +1 is for root node which is not included in dict\n",
    "    if num_nodes_ds != num_nodes_dict:\n",
    "        print(f'num nodes in dataset: {num_nodes_ds} ## num nodes in dict: {num_nodes_dict}')"
   ],
   "metadata": {
    "collapsed": false,
    "pycharm": {
     "name": "#%%\n"
    }
   }
  },
  {
   "cell_type": "code",
   "execution_count": null,
   "outputs": [],
   "source": [
    "# fetch all fake news\n",
    "fake_news_torch_ds = dataset_manager.fetch_all_news(label=0)\n"
   ],
   "metadata": {
    "collapsed": false,
    "pycharm": {
     "name": "#%%\n"
    }
   }
  }
 ],
 "metadata": {
  "kernelspec": {
   "display_name": "Python 3",
   "language": "python",
   "name": "python3"
  },
  "language_info": {
   "codemirror_mode": {
    "name": "ipython",
    "version": 2
   },
   "file_extension": ".py",
   "mimetype": "text/x-python",
   "name": "python",
   "nbconvert_exporter": "python",
   "pygments_lexer": "ipython2",
   "version": "2.7.6"
  }
 },
 "nbformat": 4,
 "nbformat_minor": 0
}